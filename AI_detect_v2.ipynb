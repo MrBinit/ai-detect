{
  "cells": [
    {
      "cell_type": "code",
      "execution_count": 18,
      "metadata": {
        "colab": {
          "base_uri": "https://localhost:8080/"
        },
        "id": "lNgntl_vFa5f",
        "outputId": "234a4fbb-d3c6-420d-ee4d-911a073f3e7e"
      },
      "outputs": [],
      "source": [
        "# from google.colab import drive\n",
        "# drive.mount('/content/drive')"
      ]
    },
    {
      "cell_type": "code",
      "execution_count": 19,
      "metadata": {
        "colab": {
          "base_uri": "https://localhost:8080/",
          "height": 365
        },
        "id": "YizG-gp8Fb6c",
        "outputId": "0a7bf6a0-8ad4-458d-82ce-2825847711cb"
      },
      "outputs": [
        {
          "name": "stdout",
          "output_type": "stream",
          "text": [
            "Total images: 21635\n",
            "Total labels: 21635\n"
          ]
        }
      ],
      "source": [
        "import cv2\n",
        "import os\n",
        "import random\n",
        "import numpy as np\n",
        "\n",
        "# Path to the directory containing the image folders on Google Drive\n",
        "# base_path = \"/content/drive/My Drive/archive\"\n",
        "\n",
        "base_path = \"/Users/mrbinit/Downloads/archive/\"\n",
        "\n",
        "# List to store all image file paths and corresponding labels\n",
        "image_paths = []\n",
        "labels = []\n",
        "\n",
        "# Function to recursively find all image files in a directory and assign labels\n",
        "def find_image_files(directory, label):\n",
        "    for root, dirs, files in os.walk(directory):\n",
        "        for file in files:\n",
        "            # Check for image file formats\n",
        "            if file.lower().endswith((\".jpg\", \".jpeg\", \".png\")):\n",
        "                image_paths.append(os.path.join(root, file))\n",
        "                labels.append(label)  # Assign label to the corresponding image\n",
        "\n",
        "# Find image files in the 'fake-v2' folder\n",
        "fake_v2_path = os.path.join(base_path, \"fakeV2/fake-v2\")\n",
        "find_image_files(fake_v2_path, label=1)  # Assign label 1 for AI-generated images\n",
        "\n",
        "# Find image files in the 'real' folder\n",
        "real_path = os.path.join(base_path, \"real\")\n",
        "find_image_files(real_path, label=0)  # Assign label 0 for hand-made images\n",
        "\n",
        "# Shuffle the image paths and labels in parallel\n",
        "combined_data = list(zip(image_paths, labels))\n",
        "random.shuffle(combined_data)\n",
        "image_paths, labels = zip(*combined_data)\n",
        "\n",
        "# Convert labels to numpy array for easier handling\n",
        "labels = np.array(labels)\n",
        "\n",
        "# Display the number of images and labels loaded\n",
        "print(f\"Total images: {len(image_paths)}\")\n",
        "print(f\"Total labels: {len(labels)}\")\n",
        "\n"
      ]
    },
    {
      "cell_type": "code",
      "execution_count": 20,
      "metadata": {
        "id": "XqQ2GpQCFi5A"
      },
      "outputs": [
        {
          "name": "stderr",
          "output_type": "stream",
          "text": [
            "libpng warning: iCCP: known incorrect sRGB profile\n",
            "libpng warning: iCCP: known incorrect sRGB profile\n",
            "libpng warning: iCCP: known incorrect sRGB profile\n"
          ]
        }
      ],
      "source": [
        "# Define the percentage of data\n",
        "data_percentage = 10\n",
        "num_samples = int(len(image_paths) * (data_percentage / 100))\n",
        "\n",
        "# Use a subset of image paths and labels\n",
        "sampled_image_paths = image_paths[:num_samples]\n",
        "sampled_labels = labels[:num_samples]\n",
        "\n",
        "# Load and process the sampled images\n",
        "for img_path, label in zip(sampled_image_paths, sampled_labels):\n",
        "    # Read the image using OpenCV\n",
        "    img = cv2.imread(img_path)"
      ]
    },
    {
      "cell_type": "code",
      "execution_count": 21,
      "metadata": {
        "colab": {
          "base_uri": "https://localhost:8080/"
        },
        "id": "EpLnxWF8FsNV",
        "outputId": "45f96053-b23c-47fe-d3dd-d33592aecd68"
      },
      "outputs": [
        {
          "name": "stdout",
          "output_type": "stream",
          "text": [
            "Image at '/Users/mrbinit/Downloads/archive/fakeV2/fake-v2/21225.png' has dimensions: 1024x1024 pixels with 3 channels\n"
          ]
        }
      ],
      "source": [
        "height, width, channels = img.shape\n",
        "print(f\"Image at '{img_path}' has dimensions: {width}x{height} pixels with {channels} channels\")"
      ]
    },
    {
      "cell_type": "code",
      "execution_count": 22,
      "metadata": {
        "colab": {
          "base_uri": "https://localhost:8080/"
        },
        "id": "Ge9tA55TFtzd",
        "outputId": "484f7972-9bf0-4701-d061-dc5ecc14b8fe"
      },
      "outputs": [
        {
          "name": "stdout",
          "output_type": "stream",
          "text": [
            "The size of the entire dataset is: 21635\n",
            "the size of the entire dataset after  2163\n"
          ]
        }
      ],
      "source": [
        "prev_dataset_size = len(image_paths)\n",
        "dataset_size = len(sampled_image_paths)\n",
        "print('The size of the entire dataset is:', prev_dataset_size)\n",
        "print('the size of the entire dataset after ', dataset_size)"
      ]
    },
    {
      "cell_type": "code",
      "execution_count": 23,
      "metadata": {},
      "outputs": [
        {
          "name": "stdout",
          "output_type": "stream",
          "text": [
            "Size of train set: 1730\n",
            "Size of test set: 216\n",
            "Size of validation set: 217\n"
          ]
        }
      ],
      "source": [
        "from sklearn.model_selection import train_test_split\n",
        "\n",
        "# Split the dataset into train, test, and validation sets using sklearn\n",
        "train_paths, test_val_paths, train_labels, test_val_labels = train_test_split(\n",
        "    sampled_image_paths, sampled_labels, test_size=0.2, stratify=sampled_labels, random_state=42)\n",
        "\n",
        "test_paths, val_paths, test_labels, val_labels = train_test_split(\n",
        "    test_val_paths, test_val_labels, test_size=0.5, stratify=test_val_labels, random_state=42)\n",
        "\n",
        "# Display sizes of train, test, and validation sets\n",
        "print('Size of train set:', len(train_paths))\n",
        "print('Size of test set:', len(test_paths))\n",
        "print('Size of validation set:', len(val_paths))"
      ]
    },
    {
      "cell_type": "code",
      "execution_count": 24,
      "metadata": {
        "id": "gUjy0fjpFy7H"
      },
      "outputs": [],
      "source": [
        "import tensorflow as tf\n",
        "from tensorflow.keras.preprocessing.image import ImageDataGenerator\n",
        "from tensorflow.keras.layers import Dense, GlobalAveragePooling2D\n",
        "from tensorflow.keras.models import Model\n",
        "from tensorflow.keras.optimizers import Adam\n",
        "from sklearn.model_selection import train_test_split\n",
        "\n"
      ]
    },
    {
      "cell_type": "code",
      "execution_count": 25,
      "metadata": {
        "id": "-75Ur_YXF2fa"
      },
      "outputs": [],
      "source": [
        "\n",
        "# Define image augmentation layers\n",
        "img_augmentation_layers = [\n",
        "    tf.keras.layers.RandomRotation(factor=0.15),\n",
        "    tf.keras.layers.RandomTranslation(height_factor=0.1, width_factor=0.1),\n",
        "    tf.keras.layers.RandomFlip(),\n",
        "    tf.keras.layers.RandomContrast(factor=0.1),\n",
        "]\n",
        "\n",
        "def apply_image_augmentation(image):\n",
        "    # Convert image to TensorFlow tensor\n",
        "    image = tf.convert_to_tensor(image)\n",
        "    # Apply each augmentation layer sequentially\n",
        "    for layer in img_augmentation_layers:\n",
        "        image = layer(image)\n",
        "    # Convert back to NumPy array\n",
        "    augmented_image = image.numpy()\n",
        "    return augmented_image\n",
        "\n",
        "def load_and_preprocess_images(image_paths, labels, input_size=224, augment=True):\n",
        "    images = []\n",
        "    for image_path in image_paths:\n",
        "        # Read and resize image\n",
        "        image = cv2.imread(image_path)\n",
        "        image = cv2.resize(image, (input_size, input_size))\n",
        "        # Normalize pixel values to [0, 1]\n",
        "        image = image.astype(np.float32) / 255.0\n",
        "\n",
        "        if augment:\n",
        "            augmented_image = apply_image_augmentation(image)\n",
        "            images.append(augmented_image)\n",
        "        else:\n",
        "            images.append(image)\n",
        "\n",
        "    images = np.array(images)\n",
        "    return images, labels"
      ]
    },
    {
      "cell_type": "code",
      "execution_count": 26,
      "metadata": {},
      "outputs": [
        {
          "name": "stderr",
          "output_type": "stream",
          "text": [
            "libpng warning: iCCP: known incorrect sRGB profile\n",
            "libpng warning: iCCP: known incorrect sRGB profile\n",
            "libpng warning: iCCP: known incorrect sRGB profile\n",
            "/var/folders/_7/q65t_5bs3653ct73dh3s10w00000gn/T/ipykernel_70138/1303952858.py:15: VisibleDeprecationWarning: Creating an ndarray from ragged nested sequences (which is a list-or-tuple of lists-or-tuples-or ndarrays with different lengths or shapes) is deprecated. If you meant to do this, you must specify 'dtype=object' when creating the ndarray.\n",
            "  X_train, y_train = np.array([item[0] for item in train_data]), np.array([item[1] for item in train_data])\n",
            "/var/folders/_7/q65t_5bs3653ct73dh3s10w00000gn/T/ipykernel_70138/1303952858.py:16: VisibleDeprecationWarning: Creating an ndarray from ragged nested sequences (which is a list-or-tuple of lists-or-tuples-or ndarrays with different lengths or shapes) is deprecated. If you meant to do this, you must specify 'dtype=object' when creating the ndarray.\n",
            "  X_val, y_val = np.array([item[0] for item in val_data]), np.array([item[1] for item in val_data])\n",
            "/var/folders/_7/q65t_5bs3653ct73dh3s10w00000gn/T/ipykernel_70138/1303952858.py:17: VisibleDeprecationWarning: Creating an ndarray from ragged nested sequences (which is a list-or-tuple of lists-or-tuples-or ndarrays with different lengths or shapes) is deprecated. If you meant to do this, you must specify 'dtype=object' when creating the ndarray.\n",
            "  X_test, y_test = np.array([item[0] for item in test_data]), np.array([item[1] for item in test_data])\n"
          ]
        }
      ],
      "source": [
        "from sklearn.utils import shuffle\n",
        "input_size = 224\n",
        "\n",
        "# Preprocess the training, validation, and test data\n",
        "train_data = load_and_preprocess_images(train_paths, train_labels, input_size=input_size, augment=True)\n",
        "val_data = load_and_preprocess_images(val_paths, val_labels, input_size=input_size, augment=False)\n",
        "test_data = load_and_preprocess_images(test_paths, test_labels, input_size=input_size, augment=False)\n",
        "\n",
        "# Shuffle training data (optional)\n",
        "train_data = shuffle(train_data)\n",
        "\n",
        "# Convert preprocessed data to numpy arrays\n",
        "X_train, y_train = np.array([item[0] for item in train_data]), np.array([item[1] for item in train_data])\n",
        "X_val, y_val = np.array([item[0] for item in val_data]), np.array([item[1] for item in val_data])\n",
        "X_test, y_test = np.array([item[0] for item in test_data]), np.array([item[1] for item in test_data])\n"
      ]
    },
    {
      "cell_type": "code",
      "execution_count": 5,
      "metadata": {},
      "outputs": [
        {
          "ename": "NameError",
          "evalue": "name 'image_paths' is not defined",
          "output_type": "error",
          "traceback": [
            "\u001b[0;31m---------------------------------------------------------------------------\u001b[0m",
            "\u001b[0;31mNameError\u001b[0m                                 Traceback (most recent call last)",
            "Cell \u001b[0;32mIn[5], line 6\u001b[0m\n\u001b[1;32m      4\u001b[0m \u001b[38;5;66;03m# Define the percentage of data\u001b[39;00m\n\u001b[1;32m      5\u001b[0m data_percentage \u001b[38;5;241m=\u001b[39m \u001b[38;5;241m10\u001b[39m\n\u001b[0;32m----> 6\u001b[0m num_samples \u001b[38;5;241m=\u001b[39m \u001b[38;5;28mint\u001b[39m(\u001b[38;5;28mlen\u001b[39m(\u001b[43mimage_paths\u001b[49m) \u001b[38;5;241m*\u001b[39m (data_percentage \u001b[38;5;241m/\u001b[39m \u001b[38;5;241m100\u001b[39m))\n\u001b[1;32m      8\u001b[0m \u001b[38;5;66;03m# Specify the folder where you want to save the processed images\u001b[39;00m\n\u001b[1;32m      9\u001b[0m output_folder \u001b[38;5;241m=\u001b[39m \u001b[38;5;124m'\u001b[39m\u001b[38;5;124mprocessed_images\u001b[39m\u001b[38;5;124m'\u001b[39m\n",
            "\u001b[0;31mNameError\u001b[0m: name 'image_paths' is not defined"
          ]
        }
      ],
      "source": [
        "import cv2\n",
        "import os\n",
        "\n",
        "# Define the percentage of data\n",
        "data_percentage = 10\n",
        "num_samples = int(len(image_paths) * (data_percentage / 100))\n",
        "\n",
        "# Specify the folder where you want to save the processed images\n",
        "output_folder = 'processed_images'\n",
        "\n",
        "# Create the output folder if it doesn't exist\n",
        "os.makedirs(output_folder, exist_ok=True)\n",
        "\n",
        "# Use a subset of image paths and labels\n",
        "sampled_image_paths = image_paths[:num_samples]\n",
        "sampled_labels = labels[:num_samples]\n",
        "\n",
        "# Load and process the sampled images\n",
        "for i, (img_path, label) in enumerate(zip(sampled_image_paths, sampled_labels)):\n",
        "    # Read the image using OpenCV\n",
        "    img = cv2.imread(img_path)\n",
        "\n",
        "    # Here you can perform any image processing on 'img' as needed\n",
        "    # For example, you might want to resize or apply filters\n",
        "\n",
        "    # Save the processed image to the output folder\n",
        "    filename = f'image_{i + 1}.jpg'  # Naming convention for saved images\n",
        "    output_path = os.path.join(output_folder, filename)\n",
        "    cv2.imwrite(output_path, img)\n",
        "\n",
        "    print(f'Saved {output_path}')\n",
        "\n",
        "print('Image saving complete.')\n"
      ]
    },
    {
      "cell_type": "code",
      "execution_count": null,
      "metadata": {},
      "outputs": [],
      "source": []
    }
  ],
  "metadata": {
    "colab": {
      "provenance": []
    },
    "kernelspec": {
      "display_name": "Python 3",
      "name": "python3"
    },
    "language_info": {
      "codemirror_mode": {
        "name": "ipython",
        "version": 3
      },
      "file_extension": ".py",
      "mimetype": "text/x-python",
      "name": "python",
      "nbconvert_exporter": "python",
      "pygments_lexer": "ipython3",
      "version": "3.9.6"
    }
  },
  "nbformat": 4,
  "nbformat_minor": 0
}
