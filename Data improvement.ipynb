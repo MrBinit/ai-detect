{
 "cells": [
  {
   "cell_type": "markdown",
   "metadata": {},
   "source": [
    "### this will minimize the size of the dataset into 1.42GB from 14 GB which is (10%)"
   ]
  },
  {
   "cell_type": "code",
   "execution_count": 8,
   "metadata": {},
   "outputs": [
    {
     "name": "stdout",
     "output_type": "stream",
     "text": [
      "Sampling complete.\n"
     ]
    }
   ],
   "source": [
    "import os\n",
    "import random\n",
    "import shutil\n",
    "\n",
    "# Path to the original dataset containing 'real' and 'fakeV2/fake-v2' folders\n",
    "base_path = \"/Users/mrbinit/Downloads/archive/\"\n",
    "\n",
    "# Destination directory to save the sampled dataset\n",
    "destination_path = \"/Users/mrbinit/Downloads/preprocessed\"\n",
    "\n",
    "# Define the percentage of data to keep (10% in this example)\n",
    "data_percentage = 10\n",
    "\n",
    "# Function to recursively find image files in a directory\n",
    "def find_image_files(directory):\n",
    "    image_paths = []\n",
    "    for root, dirs, files in os.walk(directory):\n",
    "        for file in files:\n",
    "            # Check for image file formats\n",
    "            if file.lower().endswith((\".jpg\", \".jpeg\", \".png\")):\n",
    "                image_paths.append(os.path.join(root, file))\n",
    "    return image_paths\n",
    "\n",
    "# Create destination directory if it doesn't exist\n",
    "os.makedirs(destination_path, exist_ok=True)\n",
    "\n",
    "# Sampled dataset structure: 'real' and 'fake' folders within the destination directory\n",
    "real_destination = os.path.join(destination_path, \"real\")\n",
    "fake_destination = os.path.join(destination_path, \"fake\")\n",
    "\n",
    "os.makedirs(real_destination, exist_ok=True)  # Create 'real' folder\n",
    "os.makedirs(fake_destination, exist_ok=True)  # Create 'fake' folder\n",
    "\n"
   ]
  },
  {
   "cell_type": "code",
   "execution_count": null,
   "metadata": {},
   "outputs": [],
   "source": [
    "# Function to sample images from a source directory to a destination directory\n",
    "def sample_images(source_directory, destination_directory):\n",
    "    # Find image files in the source directory\n",
    "    image_paths = find_image_files(source_directory)\n",
    "\n",
    "    # Shuffle image paths\n",
    "    random.shuffle(image_paths)\n",
    "\n",
    "    # Calculate the number of images to keep based on the data percentage\n",
    "    num_samples = int(len(image_paths) * (data_percentage / 100))\n",
    "\n",
    "    # Select a subset of image paths\n",
    "    sampled_image_paths = image_paths[:num_samples]\n",
    "\n",
    "    # Copy sampled images to the destination directory\n",
    "    for img_path in sampled_image_paths:\n",
    "        # Determine the destination path based on the source directory\n",
    "        relative_path = os.path.relpath(img_path, source_directory)\n",
    "        destination_path = os.path.join(destination_directory, relative_path)\n",
    "\n",
    "        # Create the destination folder if it doesn't exist\n",
    "        os.makedirs(os.path.dirname(destination_path), exist_ok=True)\n",
    "\n",
    "        # Copy the image to the destination folder\n",
    "        shutil.copyfile(img_path, destination_path)\n",
    "\n",
    "# Sample images from the 'real' folder of the original dataset to the 'real' folder in the new dataset\n",
    "sample_images(os.path.join(base_path, \"real\"), real_destination)\n",
    "\n",
    "# Sample images from the 'fakeV2/fake-v2' folder of the original dataset to the 'fake' folder in the new dataset\n",
    "sample_images(os.path.join(base_path, \"fakeV2/fake-v2\"), fake_destination)\n",
    "\n",
    "print('Sampling complete.')\n"
   ]
  }
 ],
 "metadata": {
  "kernelspec": {
   "display_name": "Python 3",
   "language": "python",
   "name": "python3"
  },
  "language_info": {
   "codemirror_mode": {
    "name": "ipython",
    "version": 3
   },
   "file_extension": ".py",
   "mimetype": "text/x-python",
   "name": "python",
   "nbconvert_exporter": "python",
   "pygments_lexer": "ipython3",
   "version": "3.9.6"
  }
 },
 "nbformat": 4,
 "nbformat_minor": 2
}
